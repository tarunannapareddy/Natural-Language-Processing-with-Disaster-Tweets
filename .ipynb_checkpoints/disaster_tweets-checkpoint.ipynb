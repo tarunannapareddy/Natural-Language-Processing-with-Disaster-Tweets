{
 "cells": [
  {
   "cell_type": "markdown",
   "id": "867123c4-46a3-4ff5-b607-148297fbd64d",
   "metadata": {},
   "source": [
    "# Natural Language Processing with Disaster Tweets"
   ]
  },
  {
   "cell_type": "markdown",
   "id": "a8d2746a-361b-4ead-9769-d2afb8603e5a",
   "metadata": {},
   "source": [
    "# Importing Required Libraries"
   ]
  },
  {
   "cell_type": "code",
   "execution_count": 47,
   "id": "0e30e20c-b57f-49a4-9199-8633f1e5702b",
   "metadata": {},
   "outputs": [
    {
     "name": "stderr",
     "output_type": "stream",
     "text": [
      "[nltk_data] Downloading package stopwords to /home/jovyan/nltk_data...\n",
      "[nltk_data]   Package stopwords is already up-to-date!\n",
      "[nltk_data] Downloading package vader_lexicon to\n",
      "[nltk_data]     /home/jovyan/nltk_data...\n",
      "[nltk_data]   Package vader_lexicon is already up-to-date!\n"
     ]
    }
   ],
   "source": [
    "import pandas as pd\n",
    "import matplotlib.pyplot as plt\n",
    "import re\n",
    "from collections import Counter\n",
    "import nltk\n",
    "nltk.download('stopwords')\n",
    "from nltk.corpus import stopwords\n",
    "from nltk.sentiment.vader import SentimentIntensityAnalyzer\n",
    "nltk.download('vader_lexicon') \n",
    "import string\n",
    "from sklearn.model_selection import train_test_split\n",
    "from nltk.tokenize import RegexpTokenizer\n",
    "from sklearn.feature_extraction.text import TfidfVectorizer\n",
    "from sklearn.metrics import accuracy_score, f1_score, precision_score, recall_score, classification_report"
   ]
  },
  {
   "cell_type": "markdown",
   "id": "78cb4234-8e10-4e4c-9c11-965cbd531b90",
   "metadata": {},
   "source": [
    "# Loading data and getting sense "
   ]
  },
  {
   "cell_type": "code",
   "execution_count": 48,
   "id": "63c18dca-ff71-4b8c-9927-2f2bd208113c",
   "metadata": {},
   "outputs": [
    {
     "data": {
      "text/html": [
       "<div>\n",
       "<style scoped>\n",
       "    .dataframe tbody tr th:only-of-type {\n",
       "        vertical-align: middle;\n",
       "    }\n",
       "\n",
       "    .dataframe tbody tr th {\n",
       "        vertical-align: top;\n",
       "    }\n",
       "\n",
       "    .dataframe thead th {\n",
       "        text-align: right;\n",
       "    }\n",
       "</style>\n",
       "<table border=\"1\" class=\"dataframe\">\n",
       "  <thead>\n",
       "    <tr style=\"text-align: right;\">\n",
       "      <th></th>\n",
       "      <th>id</th>\n",
       "      <th>keyword</th>\n",
       "      <th>location</th>\n",
       "      <th>text</th>\n",
       "      <th>target</th>\n",
       "    </tr>\n",
       "  </thead>\n",
       "  <tbody>\n",
       "    <tr>\n",
       "      <th>0</th>\n",
       "      <td>1</td>\n",
       "      <td>NaN</td>\n",
       "      <td>NaN</td>\n",
       "      <td>Our Deeds are the Reason of this #earthquake M...</td>\n",
       "      <td>1</td>\n",
       "    </tr>\n",
       "    <tr>\n",
       "      <th>1</th>\n",
       "      <td>4</td>\n",
       "      <td>NaN</td>\n",
       "      <td>NaN</td>\n",
       "      <td>Forest fire near La Ronge Sask. Canada</td>\n",
       "      <td>1</td>\n",
       "    </tr>\n",
       "    <tr>\n",
       "      <th>2</th>\n",
       "      <td>5</td>\n",
       "      <td>NaN</td>\n",
       "      <td>NaN</td>\n",
       "      <td>All residents asked to 'shelter in place' are ...</td>\n",
       "      <td>1</td>\n",
       "    </tr>\n",
       "    <tr>\n",
       "      <th>3</th>\n",
       "      <td>6</td>\n",
       "      <td>NaN</td>\n",
       "      <td>NaN</td>\n",
       "      <td>13,000 people receive #wildfires evacuation or...</td>\n",
       "      <td>1</td>\n",
       "    </tr>\n",
       "    <tr>\n",
       "      <th>4</th>\n",
       "      <td>7</td>\n",
       "      <td>NaN</td>\n",
       "      <td>NaN</td>\n",
       "      <td>Just got sent this photo from Ruby #Alaska as ...</td>\n",
       "      <td>1</td>\n",
       "    </tr>\n",
       "    <tr>\n",
       "      <th>5</th>\n",
       "      <td>8</td>\n",
       "      <td>NaN</td>\n",
       "      <td>NaN</td>\n",
       "      <td>#RockyFire Update =&gt; California Hwy. 20 closed...</td>\n",
       "      <td>1</td>\n",
       "    </tr>\n",
       "    <tr>\n",
       "      <th>6</th>\n",
       "      <td>10</td>\n",
       "      <td>NaN</td>\n",
       "      <td>NaN</td>\n",
       "      <td>#flood #disaster Heavy rain causes flash flood...</td>\n",
       "      <td>1</td>\n",
       "    </tr>\n",
       "    <tr>\n",
       "      <th>7</th>\n",
       "      <td>13</td>\n",
       "      <td>NaN</td>\n",
       "      <td>NaN</td>\n",
       "      <td>I'm on top of the hill and I can see a fire in...</td>\n",
       "      <td>1</td>\n",
       "    </tr>\n",
       "    <tr>\n",
       "      <th>8</th>\n",
       "      <td>14</td>\n",
       "      <td>NaN</td>\n",
       "      <td>NaN</td>\n",
       "      <td>There's an emergency evacuation happening now ...</td>\n",
       "      <td>1</td>\n",
       "    </tr>\n",
       "    <tr>\n",
       "      <th>9</th>\n",
       "      <td>15</td>\n",
       "      <td>NaN</td>\n",
       "      <td>NaN</td>\n",
       "      <td>I'm afraid that the tornado is coming to our a...</td>\n",
       "      <td>1</td>\n",
       "    </tr>\n",
       "  </tbody>\n",
       "</table>\n",
       "</div>"
      ],
      "text/plain": [
       "   id keyword location                                               text  \\\n",
       "0   1     NaN      NaN  Our Deeds are the Reason of this #earthquake M...   \n",
       "1   4     NaN      NaN             Forest fire near La Ronge Sask. Canada   \n",
       "2   5     NaN      NaN  All residents asked to 'shelter in place' are ...   \n",
       "3   6     NaN      NaN  13,000 people receive #wildfires evacuation or...   \n",
       "4   7     NaN      NaN  Just got sent this photo from Ruby #Alaska as ...   \n",
       "5   8     NaN      NaN  #RockyFire Update => California Hwy. 20 closed...   \n",
       "6  10     NaN      NaN  #flood #disaster Heavy rain causes flash flood...   \n",
       "7  13     NaN      NaN  I'm on top of the hill and I can see a fire in...   \n",
       "8  14     NaN      NaN  There's an emergency evacuation happening now ...   \n",
       "9  15     NaN      NaN  I'm afraid that the tornado is coming to our a...   \n",
       "\n",
       "   target  \n",
       "0       1  \n",
       "1       1  \n",
       "2       1  \n",
       "3       1  \n",
       "4       1  \n",
       "5       1  \n",
       "6       1  \n",
       "7       1  \n",
       "8       1  \n",
       "9       1  "
      ]
     },
     "execution_count": 48,
     "metadata": {},
     "output_type": "execute_result"
    }
   ],
   "source": [
    "##load the train data and look for the column data\n",
    "tweet = pd.read_csv('train.csv')\n",
    "tweet.head(10)"
   ]
  },
  {
   "cell_type": "code",
   "execution_count": 49,
   "id": "98466b17-5ebe-45c2-a5a9-191ca3ffb3dd",
   "metadata": {},
   "outputs": [
    {
     "name": "stdout",
     "output_type": "stream",
     "text": [
      "There are 7613 rows and 5 columns in train\n"
     ]
    }
   ],
   "source": [
    "print('There are {} rows and {} columns in train'.format(tweet.shape[0],tweet.shape[1]))"
   ]
  },
  {
   "cell_type": "markdown",
   "id": "70f96633-371d-464e-b1ff-b62594c8a5ec",
   "metadata": {},
   "source": [
    "1. Let us see how data is distributed over the Non-Disaster and Disasters tweets.The main point of this analysis is to understand the possibility of data skew"
   ]
  },
  {
   "cell_type": "code",
   "execution_count": 50,
   "id": "a8a3c73c-c7f9-48b1-8086-64cb6e2780c9",
   "metadata": {},
   "outputs": [
    {
     "name": "stdout",
     "output_type": "stream",
     "text": [
      "Number of non targets:  4342\n",
      "Number of targets:  3271\n"
     ]
    },
    {
     "data": {
      "image/png": "[encoded data removed]",
      "text/plain": [
       "<Figure size 640x480 with 1 Axes>"
      ]
     },
     "metadata": {},
     "output_type": "display_data"
    }
   ],
   "source": [
    "def label_distribution(labels):\n",
    "      zero_count = 0\n",
    "      one_count = 0\n",
    "\n",
    "      for label in labels:\n",
    "        if label == 0:\n",
    "          zero_count += 1\n",
    "        elif label == 1:\n",
    "          one_count += 1\n",
    "\n",
    "      print(\"Number of non targets: \", zero_count)  \n",
    "      print(\"Number of targets: \", one_count)\n",
    "      plt.pie([zero_count, one_count], labels=['non_target', 'target'], autopct='%0.2f%%')\n",
    "      plt.title('Training set Distribution')\n",
    "      plt.show()\n",
    "\n",
    "\n",
    "label_distribution(tweet['target'])"
   ]
  },
  {
   "cell_type": "markdown",
   "id": "0062c0f9-dc73-403d-ab33-71cc4e811417",
   "metadata": {},
   "source": [
    "So, the data set is evenly distributed. Now let us see if the disaster/ non disaster tweets possess any special properties that we can use in our feature extraction\n",
    "\n",
    "2. We will compare the word counts for the disaster and non disaster tweets"
   ]
  },
  {
   "cell_type": "code",
   "execution_count": 51,
   "id": "caa9c686-7c26-4a04-965b-7362992441d3",
   "metadata": {},
   "outputs": [
    {
     "data": {
      "image/png": "[encoded data removed]",
      "text/plain": [
       "<Figure size 1000x500 with 2 Axes>"
      ]
     },
     "metadata": {},
     "output_type": "display_data"
    }
   ],
   "source": [
    "fig,(ax1,ax2)=plt.subplots(1,2,figsize=(10,5))\n",
    "tweet_len=tweet[tweet['target']==1]['text'].str.split().map(lambda x: len(x))\n",
    "ax1.hist(tweet_len,color='red')\n",
    "ax1.set_title('disaster tweets')\n",
    "tweet_len=tweet[tweet['target']==0]['text'].str.split().map(lambda x: len(x))\n",
    "ax2.hist(tweet_len,color='green')\n",
    "ax2.set_title('Not disaster tweets')\n",
    "fig.suptitle('Words in a tweet')\n",
    "plt.show()"
   ]
  },
  {
   "cell_type": "markdown",
   "id": "03132f0f-4ef1-44dc-85fa-c83d34f92e8e",
   "metadata": {},
   "source": [
    "3. Does Disaster tweets contain any special characters?? Lets try to get top 10 frequent words on both the type of data"
   ]
  },
  {
   "cell_type": "code",
   "execution_count": 52,
   "id": "57b7f0f2-715c-4bd8-bc70-f9e1d31c03b4",
   "metadata": {},
   "outputs": [
    {
     "name": "stdout",
     "output_type": "stream",
     "text": [
      "[('http', 2382), ('fire', 182), ('news', 140), ('amp', 135), ('https', 134), ('disaster', 121), ('via', 121), ('california', 115), ('suicide', 112), ('police', 109), ('people', 105), ('killed', 95), ('like', 94), ('hiroshima', 92), ('storm', 89), ('fires', 86), ('crash', 85), ('families', 81), ('train', 79), ('emergency', 77), ('bomb', 76), ('buildings', 76), ('two', 74), ('nuclear', 73), ('mh370', 72), ('attack', 71), ('video', 69), ('wildfire', 69), ('accident', 68), ('bombing', 67), ('old', 67), ('get', 66), ('one', 65), ('northern', 64), ('burning', 64), ('dead', 63), ('legionnaires', 61), ('car', 60), ('bomber', 60), ('war', 59), ('year', 58), ('homes', 58), ('typhoon', 58), ('still', 57), ('obama', 57), ('new', 56), ('atomic', 56), ('japan', 56), ('fatal', 55), ('today', 55)]\n",
      "Ratio of Negative words across all the sentences 1.1216753286456742\n"
     ]
    }
   ],
   "source": [
    "all_text = ' '.join(tweet[tweet['target']==1]['text'])\n",
    "\n",
    "# Convert to lowercase\n",
    "words = re.findall(r'\\w+', all_text.lower()) \n",
    "\n",
    "# Filter out the stopwords from your word list\n",
    "stop_words = set(stopwords.words(\"english\"))\n",
    "filtered_words = [word for word in words if word.lower() not in stop_words and len(word) >2]\n",
    "\n",
    "\n",
    "# Count the frequency of each word\n",
    "word_count = Counter(filtered_words)\n",
    "\n",
    "# Find the top 10 most frequent words\n",
    "top_10_words = word_count.most_common(50)\n",
    "\n",
    "print(top_10_words)\n",
    "\n",
    "analyzer = SentimentIntensityAnalyzer()\n",
    "negative_word_count =0\n",
    "for word in filtered_words:\n",
    "    sentiment = analyzer.polarity_scores(word)\n",
    "    if sentiment['compound'] < 0:\n",
    "        negative_word_count += 1\n",
    "print(\"Ratio of Negative words across all the sentences\", negative_word_count/tweet[tweet['target']==1].shape[0])"
   ]
  },
  {
   "cell_type": "code",
   "execution_count": 53,
   "id": "a1d9296f-f3be-4037-aa00-344d8d14db48",
   "metadata": {},
   "outputs": [
    {
     "name": "stdout",
     "output_type": "stream",
     "text": [
      "[('http', 1927), ('https', 277), ('like', 254), ('amp', 209), ('new', 170), ('get', 163), ('one', 131), ('body', 116), ('would', 101), ('via', 99), ('video', 96), ('people', 95), ('love', 90), ('day', 86), ('know', 86), ('time', 85), ('back', 85), ('got', 84), ('full', 84), ('see', 82), ('emergency', 81), ('going', 76), ('youtube', 76), ('let', 76), ('still', 72), ('fire', 72), ('want', 67), ('good', 67), ('man', 66), ('think', 66), ('world', 63), ('lol', 62), ('life', 61), ('first', 59), ('way', 57), ('burning', 57), ('news', 57), ('last', 56), ('make', 56), ('best', 55), ('really', 55), ('need', 55), ('reddit', 55), ('work', 54), ('take', 52), ('much', 51), ('many', 51), ('even', 51), ('help', 49), ('say', 49)]\n",
      "Ratio of Negative words across all the sentences 0.7759097190234915\n"
     ]
    }
   ],
   "source": [
    "all_text = ' '.join(tweet[tweet['target']==0]['text'])\n",
    "\n",
    "# Convert to lowercase\n",
    "words = re.findall(r'\\w+', all_text.lower()) \n",
    "\n",
    "# Filter out the stopwords from your word list\n",
    "stop_words = set(stopwords.words(\"english\"))\n",
    "filtered_words = [word for word in words if word.lower() not in stop_words and len(word) >2]\n",
    "\n",
    "\n",
    "# Count the frequency of each word\n",
    "word_count = Counter(filtered_words)\n",
    "\n",
    "# Find the top 10 most frequent words\n",
    "top_10_words = word_count.most_common(50)\n",
    "\n",
    "print(top_10_words)\n",
    "\n",
    "analyzer = SentimentIntensityAnalyzer()\n",
    "negative_word_count =0\n",
    "for word in filtered_words:\n",
    "    sentiment = analyzer.polarity_scores(word)\n",
    "    if sentiment['compound'] < 0:\n",
    "        negative_word_count += 1\n",
    "print(\"Ratio of Negative words across all the sentences\", negative_word_count/tweet[tweet['target']==0].shape[0])"
   ]
  },
  {
   "cell_type": "markdown",
   "id": "ae1b9e38-1631-4067-8334-da212bab24ac",
   "metadata": {},
   "source": [
    "Looks like there is a clear difference in frequency of words in disaster tweets and non disaster ones. We are seeing lot of panic words like \"accident\", \"crash\", \"fires\", \"disaster\" etc.\n",
    "Also ratio of negative words for disaster statement >> non-disaster statement"
   ]
  },
  {
   "cell_type": "markdown",
   "id": "6f38f03d-f551-47b8-a031-23cb2bcdf64a",
   "metadata": {},
   "source": [
    "# DataCleaning"
   ]
  },
  {
   "cell_type": "markdown",
   "id": "43e586e6-3262-46a1-bfc1-e0402894e176",
   "metadata": {},
   "source": [
    "From the first look at the data we can see that there are lot of non text words in the text field. So, let us filter clean the data "
   ]
  },
  {
   "cell_type": "code",
   "execution_count": 54,
   "id": "715738f0-83de-4f0d-8b22-6c50f99934e6",
   "metadata": {},
   "outputs": [
    {
     "data": {
      "text/html": [
       "<div>\n",
       "<style scoped>\n",
       "    .dataframe tbody tr th:only-of-type {\n",
       "        vertical-align: middle;\n",
       "    }\n",
       "\n",
       "    .dataframe tbody tr th {\n",
       "        vertical-align: top;\n",
       "    }\n",
       "\n",
       "    .dataframe thead th {\n",
       "        text-align: right;\n",
       "    }\n",
       "</style>\n",
       "<table border=\"1\" class=\"dataframe\">\n",
       "  <thead>\n",
       "    <tr style=\"text-align: right;\">\n",
       "      <th></th>\n",
       "      <th>id</th>\n",
       "      <th>keyword</th>\n",
       "      <th>location</th>\n",
       "      <th>text</th>\n",
       "      <th>target</th>\n",
       "    </tr>\n",
       "  </thead>\n",
       "  <tbody>\n",
       "    <tr>\n",
       "      <th>0</th>\n",
       "      <td>1</td>\n",
       "      <td>NaN</td>\n",
       "      <td>NaN</td>\n",
       "      <td>Our Deeds are the Reason of this #earthquake M...</td>\n",
       "      <td>1</td>\n",
       "    </tr>\n",
       "    <tr>\n",
       "      <th>1</th>\n",
       "      <td>4</td>\n",
       "      <td>NaN</td>\n",
       "      <td>NaN</td>\n",
       "      <td>Forest fire near La Ronge Sask. Canada</td>\n",
       "      <td>1</td>\n",
       "    </tr>\n",
       "    <tr>\n",
       "      <th>2</th>\n",
       "      <td>5</td>\n",
       "      <td>NaN</td>\n",
       "      <td>NaN</td>\n",
       "      <td>All residents asked to 'shelter in place' are ...</td>\n",
       "      <td>1</td>\n",
       "    </tr>\n",
       "    <tr>\n",
       "      <th>3</th>\n",
       "      <td>6</td>\n",
       "      <td>NaN</td>\n",
       "      <td>NaN</td>\n",
       "      <td>13,000 people receive #wildfires evacuation or...</td>\n",
       "      <td>1</td>\n",
       "    </tr>\n",
       "    <tr>\n",
       "      <th>4</th>\n",
       "      <td>7</td>\n",
       "      <td>NaN</td>\n",
       "      <td>NaN</td>\n",
       "      <td>Just got sent this photo from Ruby #Alaska as ...</td>\n",
       "      <td>1</td>\n",
       "    </tr>\n",
       "    <tr>\n",
       "      <th>5</th>\n",
       "      <td>8</td>\n",
       "      <td>NaN</td>\n",
       "      <td>NaN</td>\n",
       "      <td>#RockyFire Update =&gt; California Hwy. 20 closed...</td>\n",
       "      <td>1</td>\n",
       "    </tr>\n",
       "    <tr>\n",
       "      <th>6</th>\n",
       "      <td>10</td>\n",
       "      <td>NaN</td>\n",
       "      <td>NaN</td>\n",
       "      <td>#flood #disaster Heavy rain causes flash flood...</td>\n",
       "      <td>1</td>\n",
       "    </tr>\n",
       "    <tr>\n",
       "      <th>7</th>\n",
       "      <td>13</td>\n",
       "      <td>NaN</td>\n",
       "      <td>NaN</td>\n",
       "      <td>I'm on top of the hill and I can see a fire in...</td>\n",
       "      <td>1</td>\n",
       "    </tr>\n",
       "    <tr>\n",
       "      <th>8</th>\n",
       "      <td>14</td>\n",
       "      <td>NaN</td>\n",
       "      <td>NaN</td>\n",
       "      <td>There's an emergency evacuation happening now ...</td>\n",
       "      <td>1</td>\n",
       "    </tr>\n",
       "    <tr>\n",
       "      <th>9</th>\n",
       "      <td>15</td>\n",
       "      <td>NaN</td>\n",
       "      <td>NaN</td>\n",
       "      <td>I'm afraid that the tornado is coming to our a...</td>\n",
       "      <td>1</td>\n",
       "    </tr>\n",
       "  </tbody>\n",
       "</table>\n",
       "</div>"
      ],
      "text/plain": [
       "   id keyword location                                               text  \\\n",
       "0   1     NaN      NaN  Our Deeds are the Reason of this #earthquake M...   \n",
       "1   4     NaN      NaN             Forest fire near La Ronge Sask. Canada   \n",
       "2   5     NaN      NaN  All residents asked to 'shelter in place' are ...   \n",
       "3   6     NaN      NaN  13,000 people receive #wildfires evacuation or...   \n",
       "4   7     NaN      NaN  Just got sent this photo from Ruby #Alaska as ...   \n",
       "5   8     NaN      NaN  #RockyFire Update => California Hwy. 20 closed...   \n",
       "6  10     NaN      NaN  #flood #disaster Heavy rain causes flash flood...   \n",
       "7  13     NaN      NaN  I'm on top of the hill and I can see a fire in...   \n",
       "8  14     NaN      NaN  There's an emergency evacuation happening now ...   \n",
       "9  15     NaN      NaN  I'm afraid that the tornado is coming to our a...   \n",
       "\n",
       "   target  \n",
       "0       1  \n",
       "1       1  \n",
       "2       1  \n",
       "3       1  \n",
       "4       1  \n",
       "5       1  \n",
       "6       1  \n",
       "7       1  \n",
       "8       1  \n",
       "9       1  "
      ]
     },
     "execution_count": 54,
     "metadata": {},
     "output_type": "execute_result"
    }
   ],
   "source": [
    "tweet.head(10)"
   ]
  },
  {
   "cell_type": "code",
   "execution_count": 55,
   "id": "6f3f2352-0295-4da7-8a72-3d3edc4bf74e",
   "metadata": {},
   "outputs": [
    {
     "data": {
      "text/html": [
       "<div>\n",
       "<style scoped>\n",
       "    .dataframe tbody tr th:only-of-type {\n",
       "        vertical-align: middle;\n",
       "    }\n",
       "\n",
       "    .dataframe tbody tr th {\n",
       "        vertical-align: top;\n",
       "    }\n",
       "\n",
       "    .dataframe thead th {\n",
       "        text-align: right;\n",
       "    }\n",
       "</style>\n",
       "<table border=\"1\" class=\"dataframe\">\n",
       "  <thead>\n",
       "    <tr style=\"text-align: right;\">\n",
       "      <th></th>\n",
       "      <th>id</th>\n",
       "      <th>keyword</th>\n",
       "      <th>location</th>\n",
       "      <th>text</th>\n",
       "      <th>target</th>\n",
       "    </tr>\n",
       "  </thead>\n",
       "  <tbody>\n",
       "    <tr>\n",
       "      <th>0</th>\n",
       "      <td>1</td>\n",
       "      <td></td>\n",
       "      <td></td>\n",
       "      <td>our deeds are the reason of this earthquake ma...</td>\n",
       "      <td>1</td>\n",
       "    </tr>\n",
       "    <tr>\n",
       "      <th>1</th>\n",
       "      <td>4</td>\n",
       "      <td></td>\n",
       "      <td></td>\n",
       "      <td>forest fire near la ronge sask canada</td>\n",
       "      <td>1</td>\n",
       "    </tr>\n",
       "    <tr>\n",
       "      <th>2</th>\n",
       "      <td>5</td>\n",
       "      <td></td>\n",
       "      <td></td>\n",
       "      <td>all residents asked to shelter in place are be...</td>\n",
       "      <td>1</td>\n",
       "    </tr>\n",
       "    <tr>\n",
       "      <th>3</th>\n",
       "      <td>6</td>\n",
       "      <td></td>\n",
       "      <td></td>\n",
       "      <td>13000 people receive wildfires evacuation orde...</td>\n",
       "      <td>1</td>\n",
       "    </tr>\n",
       "    <tr>\n",
       "      <th>4</th>\n",
       "      <td>7</td>\n",
       "      <td></td>\n",
       "      <td></td>\n",
       "      <td>just got sent this photo from ruby alaska as s...</td>\n",
       "      <td>1</td>\n",
       "    </tr>\n",
       "    <tr>\n",
       "      <th>5</th>\n",
       "      <td>8</td>\n",
       "      <td></td>\n",
       "      <td></td>\n",
       "      <td>rockyfire update california hwy 20 closed in b...</td>\n",
       "      <td>1</td>\n",
       "    </tr>\n",
       "    <tr>\n",
       "      <th>6</th>\n",
       "      <td>10</td>\n",
       "      <td></td>\n",
       "      <td></td>\n",
       "      <td>flood disaster heavy rain causes flash floodin...</td>\n",
       "      <td>1</td>\n",
       "    </tr>\n",
       "    <tr>\n",
       "      <th>7</th>\n",
       "      <td>13</td>\n",
       "      <td></td>\n",
       "      <td></td>\n",
       "      <td>im on top of the hill and i can see a fire in ...</td>\n",
       "      <td>1</td>\n",
       "    </tr>\n",
       "    <tr>\n",
       "      <th>8</th>\n",
       "      <td>14</td>\n",
       "      <td></td>\n",
       "      <td></td>\n",
       "      <td>theres an emergency evacuation happening now i...</td>\n",
       "      <td>1</td>\n",
       "    </tr>\n",
       "    <tr>\n",
       "      <th>9</th>\n",
       "      <td>15</td>\n",
       "      <td></td>\n",
       "      <td></td>\n",
       "      <td>im afraid that the tornado is coming to our area</td>\n",
       "      <td>1</td>\n",
       "    </tr>\n",
       "  </tbody>\n",
       "</table>\n",
       "</div>"
      ],
      "text/plain": [
       "   id keyword location                                               text  \\\n",
       "0   1                   our deeds are the reason of this earthquake ma...   \n",
       "1   4                               forest fire near la ronge sask canada   \n",
       "2   5                   all residents asked to shelter in place are be...   \n",
       "3   6                   13000 people receive wildfires evacuation orde...   \n",
       "4   7                   just got sent this photo from ruby alaska as s...   \n",
       "5   8                   rockyfire update california hwy 20 closed in b...   \n",
       "6  10                   flood disaster heavy rain causes flash floodin...   \n",
       "7  13                   im on top of the hill and i can see a fire in ...   \n",
       "8  14                   theres an emergency evacuation happening now i...   \n",
       "9  15                    im afraid that the tornado is coming to our area   \n",
       "\n",
       "   target  \n",
       "0       1  \n",
       "1       1  \n",
       "2       1  \n",
       "3       1  \n",
       "4       1  \n",
       "5       1  \n",
       "6       1  \n",
       "7       1  \n",
       "8       1  \n",
       "9       1  "
      ]
     },
     "execution_count": 55,
     "metadata": {},
     "output_type": "execute_result"
    }
   ],
   "source": [
    "# Clear emojis\n",
    "def remove_emoji(text):\n",
    "    emoji_pattern = re.compile(\"[\"\n",
    "                               u\"\\U0001F600-\\U0001F64F\"  # emoticons\n",
    "                               u\"\\U0001F300-\\U0001F5FF\"  # symbols & pictographs\n",
    "                               u\"\\U0001F680-\\U0001F6FF\"  # transport & map symbols\n",
    "                               u\"\\U0001F1E0-\\U0001F1FF\"  # flags (iOS)\n",
    "                               u\"\\U00002702-\\U000027B0\"\n",
    "                               u\"\\U000024C2-\\U0001F251\"\n",
    "                               \"]+\", flags=re.UNICODE)\n",
    "    return emoji_pattern.sub(r'', text)\n",
    "\n",
    "\n",
    "# Clear html\n",
    "def remove_html(text):\n",
    "    html = re.compile(r'<.*?>')\n",
    "    return html.sub(r'', text)\n",
    "\n",
    "\n",
    "# Clear urls\n",
    "def remove_URL(text):\n",
    "    url = re.compile(r'https?://\\S+|www\\.\\S+')\n",
    "    return url.sub(r'', text)\n",
    "\n",
    "\n",
    "# Clear special characters\n",
    "def remove_punct(text):\n",
    "    table = str.maketrans('', '', string.punctuation)\n",
    "    return text.translate(table)\n",
    "\n",
    "def clean_df(df):\n",
    "    # lower the characters\n",
    "    df[\"text\"] = df[\"text\"].apply(lambda x: x.lower())\n",
    "    df[\"text\"] = df[\"text\"].apply(lambda x: remove_emoji(x))\n",
    "    df[\"text\"] = df[\"text\"].apply(lambda x: remove_html(x))\n",
    "    df[\"text\"] = df[\"text\"].apply(lambda x: remove_URL(x))\n",
    "    df[\"text\"] = df[\"text\"].apply(lambda x: remove_punct(x))\n",
    "    # Remove multiple spaces\n",
    "    df[\"text\"] = df.text.replace(\"\\s+\", \" \", regex=True)\n",
    "    return df\n",
    "\n",
    "tweet = clean_df(tweet)\n",
    "tweet.fillna('', inplace=True)\n",
    "tweet.head(10)"
   ]
  },
  {
   "cell_type": "markdown",
   "id": "f6b067a3-fa71-49d8-9582-dbc8f3ac563c",
   "metadata": {},
   "source": [
    "# Diving Training to Train and Test Sets"
   ]
  },
  {
   "cell_type": "code",
   "execution_count": 71,
   "id": "a30033a1-b737-4f68-93a5-0493089dc400",
   "metadata": {},
   "outputs": [],
   "source": [
    "'''\n",
    "def combine_attributes(text, keyword):\n",
    "    var_list = [text, keyword]\n",
    "    combined = ' '.join(x for x in var_list if x)\n",
    "    return combined\n",
    "\n",
    "tweet['combine'] = tweet.apply(lambda x: combine_attributes(x['text'], x['keyword']), axis=1)\n",
    "'''\n",
    "tweet_train, tweet_test, y_train, y_test = train_test_split(tweet['text'], tweet['target'], test_size=0.2, random_state=99)"
   ]
  },
  {
   "cell_type": "markdown",
   "id": "43dd2dbe-6d35-4028-ba49-7a5fd6d398c8",
   "metadata": {},
   "source": [
    "# Implementing vectorization and SVM"
   ]
  },
  {
   "cell_type": "code",
   "execution_count": 72,
   "id": "0587dbbe-7684-4bf3-bdc3-92d99fe1e2aa",
   "metadata": {},
   "outputs": [],
   "source": [
    "vectorizer = TfidfVectorizer()\n",
    "tweet_train_vect = vectorizer.fit_transform(tweet_train)\n",
    "tweet_test_vect = vectorizer.transform(tweet_test)"
   ]
  },
  {
   "cell_type": "code",
   "execution_count": 73,
   "id": "03497e48-dd1d-4496-9233-e99dbba7de79",
   "metadata": {},
   "outputs": [],
   "source": [
    "from sklearn.svm import SVC\n",
    "from sklearn.svm import LinearSVC\n",
    "\n",
    "clf = SVC(kernel='linear')\n",
    "clf.fit(tweet_train_vect, y_train)\n",
    "\n",
    "y_pred = clf.predict(tweet_test_vect)"
   ]
  },
  {
   "cell_type": "markdown",
   "id": "0562bfe9-6822-4b6c-a40c-abdd71fe60bb",
   "metadata": {},
   "source": [
    "# Calculating Scores"
   ]
  },
  {
   "cell_type": "code",
   "execution_count": 74,
   "id": "a0ddbf8d-d869-4689-b160-3a77eb2103f1",
   "metadata": {},
   "outputs": [],
   "source": [
    "def scores(y_test, y_predicted):  \n",
    "    accuracy = accuracy_score(y_test, y_predicted)\n",
    "    f1 = f1_score(y_test, y_predicted, pos_label = None, average = 'weighted')\n",
    "    precision = precision_score(y_test, y_predicted, pos_label = None, average = 'weighted')             \n",
    "    recall = recall_score(y_test, y_predicted, pos_label = None, average = 'weighted')\n",
    "    print(\"accuracy = %.4f, f1 = %.4f, precision = %.4f, recall = %.4f\" % (accuracy, f1, precision, recall))\n",
    "    return accuracy, f1, precision, recall"
   ]
  },
  {
   "cell_type": "code",
   "execution_count": 75,
   "id": "1f547941-e3d6-417c-9309-d1977464f7ba",
   "metadata": {},
   "outputs": [
    {
     "name": "stdout",
     "output_type": "stream",
     "text": [
      "accuracy = 0.7971, f1 = 0.7948, precision = 0.7987, recall = 0.7971\n"
     ]
    }
   ],
   "source": [
    "accuracy, f1, precision, recall = scores(y_test, y_pred)"
   ]
  },
  {
   "cell_type": "code",
   "execution_count": null,
   "id": "232d41f5-f5b1-4663-a0d1-d315a808bc88",
   "metadata": {},
   "outputs": [],
   "source": []
  }
 ],
 "metadata": {
  "kernelspec": {
   "display_name": "Python 3 (ipykernel)",
   "language": "python",
   "name": "python3"
  },
  "language_info": {
   "codemirror_mode": {
    "name": "ipython",
    "version": 3
   },
   "file_extension": ".py",
   "mimetype": "text/x-python",
   "name": "python",
   "nbconvert_exporter": "python",
   "pygments_lexer": "ipython3",
   "version": "3.10.8"
  }
 },
 "nbformat": 4,
 "nbformat_minor": 5
}
